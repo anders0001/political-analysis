{
 "cells": [
  {
   "cell_type": "code",
   "execution_count": null,
   "metadata": {},
   "outputs": [],
   "source": [
    "import pandas as pd\n",
    "import glob\n",
    "from sklearn.feature_extraction.text import CountVectorizer\n",
    "from sklearn.model_selection import train_test_split\n",
    "from sklearn.linear_model import LogisticRegression\n",
    "from sklearn.pipeline import Pipeline\n",
    "from keras.models import Sequential\n",
    "from keras.layers import Embedding, Flatten, Dense\n",
    "from keras.preprocessing import sequence"
   ]
  },
  {
   "cell_type": "code",
   "execution_count": null,
   "metadata": {},
   "outputs": [],
   "source": [
    "#1 Load data"
   ]
  },
  {
   "cell_type": "code",
   "execution_count": null,
   "metadata": {},
   "outputs": [],
   "source": [
    "path = r'/Users/andersfleck/Desktop/data-science/political-analysis/model/training_data'\n",
    "all_files = glob.glob(path + \"/*.csv\")"
   ]
  },
  {
   "cell_type": "code",
   "execution_count": null,
   "metadata": {},
   "outputs": [],
   "source": [
    "#2 Store data in Dataframe"
   ]
  },
  {
   "cell_type": "code",
   "execution_count": null,
   "metadata": {},
   "outputs": [],
   "source": [
    "li = []\n",
    "\n",
    "for filename in all_files:\n",
    "    data = pd.read_csv(filename, index_col=None, header=0)\n",
    "    li.append(data)\n",
    "    \n",
    "df = pd.concat(li, axis=0, ignore_index=True, sort=True)"
   ]
  },
  {
   "cell_type": "code",
   "execution_count": null,
   "metadata": {},
   "outputs": [],
   "source": [
    "#3 Clean data (drop eu_code-column; drop 'NaN'; remove '.' & ','; make all lower case)"
   ]
  },
  {
   "cell_type": "code",
   "execution_count": 7,
   "metadata": {},
   "outputs": [],
   "source": [
    "df = df.drop(['eu_code'],axis=1)\n",
    "df = df.dropna()\n",
    "df.content = df['content'].str.replace('[^\\w\\s]','')\n",
    "df.content = df['content'].str.lower()"
   ]
  },
  {
   "cell_type": "code",
   "execution_count": 8,
   "metadata": {},
   "outputs": [],
   "source": [
    "left = [101,103,105,106,107,108,201,202,301,403,404,411,412,414,415,501,502,503,504,602,604,607,701]\n",
    "right = [102,104,109,110,302,305,401,405,413,505,601,603,605,608,702,703]\n",
    "to_be_deleted = [000,203,204,303,304,402,406,407,408,409,410,416,506,507,606,704,705,706]"
   ]
  },
  {
   "cell_type": "code",
   "execution_count": 9,
   "metadata": {},
   "outputs": [],
   "source": [
    "df.cmp_code = df['cmp_code'].replace(to_be_deleted,999)\n",
    "df = df[df.cmp_code != 999]"
   ]
  },
  {
   "cell_type": "code",
   "execution_count": 10,
   "metadata": {},
   "outputs": [],
   "source": [
    "df.cmp_code = df['cmp_code'].replace(left,0)\n",
    "df.cmp_code = df['cmp_code'].replace(right,1)"
   ]
  },
  {
   "cell_type": "code",
   "execution_count": 12,
   "metadata": {},
   "outputs": [
    {
     "data": {
      "text/html": [
       "<div>\n",
       "<style scoped>\n",
       "    .dataframe tbody tr th:only-of-type {\n",
       "        vertical-align: middle;\n",
       "    }\n",
       "\n",
       "    .dataframe tbody tr th {\n",
       "        vertical-align: top;\n",
       "    }\n",
       "\n",
       "    .dataframe thead th {\n",
       "        text-align: right;\n",
       "    }\n",
       "</style>\n",
       "<table border=\"1\" class=\"dataframe\">\n",
       "  <thead>\n",
       "    <tr style=\"text-align: right;\">\n",
       "      <th></th>\n",
       "      <th>cmp_code</th>\n",
       "      <th>content</th>\n",
       "    </tr>\n",
       "  </thead>\n",
       "  <tbody>\n",
       "    <tr>\n",
       "      <th>3</th>\n",
       "      <td>1.0</td>\n",
       "      <td>wir machen uns für die freiheit des einzelneni...</td>\n",
       "    </tr>\n",
       "    <tr>\n",
       "      <th>6</th>\n",
       "      <td>0.0</td>\n",
       "      <td>in der liberalen bürgergesellschaft entscheide...</td>\n",
       "    </tr>\n",
       "    <tr>\n",
       "      <th>8</th>\n",
       "      <td>0.0</td>\n",
       "      <td>denn durch sie wird politik gestaltet</td>\n",
       "    </tr>\n",
       "    <tr>\n",
       "      <th>9</th>\n",
       "      <td>1.0</td>\n",
       "      <td>sie schöpft ihre kraft aus der eigeninitiative...</td>\n",
       "    </tr>\n",
       "    <tr>\n",
       "      <th>11</th>\n",
       "      <td>1.0</td>\n",
       "      <td>wir liberale vertrauen auf die leistungsbereit...</td>\n",
       "    </tr>\n",
       "    <tr>\n",
       "      <th>12</th>\n",
       "      <td>1.0</td>\n",
       "      <td>und auf einen staat der seine stärke aus der b...</td>\n",
       "    </tr>\n",
       "    <tr>\n",
       "      <th>13</th>\n",
       "      <td>1.0</td>\n",
       "      <td>wir wenden uns an alle mündigen und verantwort...</td>\n",
       "    </tr>\n",
       "    <tr>\n",
       "      <th>14</th>\n",
       "      <td>1.0</td>\n",
       "      <td>sie erkennen selbst was getan werden muss und ...</td>\n",
       "    </tr>\n",
       "    <tr>\n",
       "      <th>15</th>\n",
       "      <td>1.0</td>\n",
       "      <td>die fdp ist die partei für alle die ihr leben ...</td>\n",
       "    </tr>\n",
       "    <tr>\n",
       "      <th>16</th>\n",
       "      <td>0.0</td>\n",
       "      <td>wir wollen die maßstäbe politischen handelns n...</td>\n",
       "    </tr>\n",
       "    <tr>\n",
       "      <th>17</th>\n",
       "      <td>1.0</td>\n",
       "      <td>erwirtschaften vor verteilen</td>\n",
       "    </tr>\n",
       "    <tr>\n",
       "      <th>18</th>\n",
       "      <td>1.0</td>\n",
       "      <td>privat vor staat</td>\n",
       "    </tr>\n",
       "    <tr>\n",
       "      <th>19</th>\n",
       "      <td>1.0</td>\n",
       "      <td>eigenverantwortung statt staatsgläubigkeit</td>\n",
       "    </tr>\n",
       "    <tr>\n",
       "      <th>20</th>\n",
       "      <td>0.0</td>\n",
       "      <td>chancengleichheit statt gleichmacherei</td>\n",
       "    </tr>\n",
       "    <tr>\n",
       "      <th>21</th>\n",
       "      <td>0.0</td>\n",
       "      <td>wer mehr freiheit und chancengerechtigkeit in ...</td>\n",
       "    </tr>\n",
       "    <tr>\n",
       "      <th>22</th>\n",
       "      <td>1.0</td>\n",
       "      <td>wir setzen uns für mehr freiheit und verantwor...</td>\n",
       "    </tr>\n",
       "    <tr>\n",
       "      <th>23</th>\n",
       "      <td>0.0</td>\n",
       "      <td>freiheit ist mehr als ein abstrakter begriff</td>\n",
       "    </tr>\n",
       "    <tr>\n",
       "      <th>24</th>\n",
       "      <td>0.0</td>\n",
       "      <td>sie ist die grundlage für die freie entwicklun...</td>\n",
       "    </tr>\n",
       "    <tr>\n",
       "      <th>25</th>\n",
       "      <td>0.0</td>\n",
       "      <td>maßstab aller politik muss die freiheit sein</td>\n",
       "    </tr>\n",
       "    <tr>\n",
       "      <th>26</th>\n",
       "      <td>0.0</td>\n",
       "      <td>denn nur sie erweitert handlungsspielräume</td>\n",
       "    </tr>\n",
       "    <tr>\n",
       "      <th>27</th>\n",
       "      <td>1.0</td>\n",
       "      <td>unsere realistische betrachtung der gegenwart ...</td>\n",
       "    </tr>\n",
       "    <tr>\n",
       "      <th>28</th>\n",
       "      <td>1.0</td>\n",
       "      <td>wir wollen die chancen der zukunft nutzen inde...</td>\n",
       "    </tr>\n",
       "    <tr>\n",
       "      <th>29</th>\n",
       "      <td>0.0</td>\n",
       "      <td>dazu gehört auch die freiheiten zu verteidigen...</td>\n",
       "    </tr>\n",
       "    <tr>\n",
       "      <th>30</th>\n",
       "      <td>0.0</td>\n",
       "      <td>wir sind nicht dazu bereit bürgerrechte für ei...</td>\n",
       "    </tr>\n",
       "    <tr>\n",
       "      <th>31</th>\n",
       "      <td>0.0</td>\n",
       "      <td>wir liberale stehen für eine politik die vom r...</td>\n",
       "    </tr>\n",
       "    <tr>\n",
       "      <th>33</th>\n",
       "      <td>0.0</td>\n",
       "      <td>für deutschlands zukunftsfähigkeit ist es zent...</td>\n",
       "    </tr>\n",
       "    <tr>\n",
       "      <th>34</th>\n",
       "      <td>1.0</td>\n",
       "      <td>verantwortungsvolle bürgerinnen und bürger wis...</td>\n",
       "    </tr>\n",
       "    <tr>\n",
       "      <th>35</th>\n",
       "      <td>1.0</td>\n",
       "      <td>aber sie müssen darauf vertrauen können dass e...</td>\n",
       "    </tr>\n",
       "    <tr>\n",
       "      <th>39</th>\n",
       "      <td>1.0</td>\n",
       "      <td>für sie sind leistungsbereitschaft fleiß und a...</td>\n",
       "    </tr>\n",
       "    <tr>\n",
       "      <th>40</th>\n",
       "      <td>1.0</td>\n",
       "      <td>ihr denken in generationen und sozialen zusamm...</td>\n",
       "    </tr>\n",
       "    <tr>\n",
       "      <th>...</th>\n",
       "      <td>...</td>\n",
       "      <td>...</td>\n",
       "    </tr>\n",
       "    <tr>\n",
       "      <th>26209</th>\n",
       "      <td>0.0</td>\n",
       "      <td>o deutschland fördert aber wir fordern auch  m...</td>\n",
       "    </tr>\n",
       "    <tr>\n",
       "      <th>26210</th>\n",
       "      <td>1.0</td>\n",
       "      <td>o mehr marktwirtschaft</td>\n",
       "    </tr>\n",
       "    <tr>\n",
       "      <th>26213</th>\n",
       "      <td>1.0</td>\n",
       "      <td>liberale entwicklungspolitik setzt auf eine...</td>\n",
       "    </tr>\n",
       "    <tr>\n",
       "      <th>26214</th>\n",
       "      <td>1.0</td>\n",
       "      <td>der staat allein wird die entwicklungsherau...</td>\n",
       "    </tr>\n",
       "    <tr>\n",
       "      <th>26215</th>\n",
       "      <td>1.0</td>\n",
       "      <td>das gilt auch für die entwicklungsfinanzierung</td>\n",
       "    </tr>\n",
       "    <tr>\n",
       "      <th>26216</th>\n",
       "      <td>1.0</td>\n",
       "      <td>die deutsche entwicklungspolitik muss desh...</td>\n",
       "    </tr>\n",
       "    <tr>\n",
       "      <th>26218</th>\n",
       "      <td>1.0</td>\n",
       "      <td>gemeinsam mit dem privatsektor wollen wir ...</td>\n",
       "    </tr>\n",
       "    <tr>\n",
       "      <th>26220</th>\n",
       "      <td>0.0</td>\n",
       "      <td>das engagement der deutschen wirtschaft ist...</td>\n",
       "    </tr>\n",
       "    <tr>\n",
       "      <th>26221</th>\n",
       "      <td>0.0</td>\n",
       "      <td>diese zusammenarbeit wollen wir deshalb we...</td>\n",
       "    </tr>\n",
       "    <tr>\n",
       "      <th>26224</th>\n",
       "      <td>0.0</td>\n",
       "      <td>wir bekennen uns zu den eingegangenen inte...</td>\n",
       "    </tr>\n",
       "    <tr>\n",
       "      <th>26229</th>\n",
       "      <td>0.0</td>\n",
       "      <td>deshalb haben wir die mittel für nichtregi...</td>\n",
       "    </tr>\n",
       "    <tr>\n",
       "      <th>26231</th>\n",
       "      <td>0.0</td>\n",
       "      <td>mit diesen reformen möchten wir in den näch...</td>\n",
       "    </tr>\n",
       "    <tr>\n",
       "      <th>26233</th>\n",
       "      <td>0.0</td>\n",
       "      <td>liberale entwicklungspolitik reagiert konse...</td>\n",
       "    </tr>\n",
       "    <tr>\n",
       "      <th>26234</th>\n",
       "      <td>0.0</td>\n",
       "      <td>das heißt mit aufstrebenden schwellenländer...</td>\n",
       "    </tr>\n",
       "    <tr>\n",
       "      <th>26235</th>\n",
       "      <td>0.0</td>\n",
       "      <td>mit china sind wir diesen schritt bereits 2...</td>\n",
       "    </tr>\n",
       "    <tr>\n",
       "      <th>26237</th>\n",
       "      <td>0.0</td>\n",
       "      <td>mit den millenniumentwicklungszielen ist es...</td>\n",
       "    </tr>\n",
       "    <tr>\n",
       "      <th>26238</th>\n",
       "      <td>0.0</td>\n",
       "      <td>allerdings weist dieses zielsystem defizite...</td>\n",
       "    </tr>\n",
       "    <tr>\n",
       "      <th>26239</th>\n",
       "      <td>0.0</td>\n",
       "      <td>die weltagenda nach 2015 muss das nebeneina...</td>\n",
       "    </tr>\n",
       "    <tr>\n",
       "      <th>26240</th>\n",
       "      <td>0.0</td>\n",
       "      <td>es sollen gemeinsame aber differenzierte ve...</td>\n",
       "    </tr>\n",
       "    <tr>\n",
       "      <th>26244</th>\n",
       "      <td>0.0</td>\n",
       "      <td>die eu soll darüber hinaus in ihrer rolle d...</td>\n",
       "    </tr>\n",
       "    <tr>\n",
       "      <th>26245</th>\n",
       "      <td>1.0</td>\n",
       "      <td>eine vergemeinschaftung der entwicklungspol...</td>\n",
       "    </tr>\n",
       "    <tr>\n",
       "      <th>26246</th>\n",
       "      <td>0.0</td>\n",
       "      <td>der europäische entwicklungsfonds muss zus...</td>\n",
       "    </tr>\n",
       "    <tr>\n",
       "      <th>26249</th>\n",
       "      <td>0.0</td>\n",
       "      <td>zu oft wird afrika ausschließlich auf katas...</td>\n",
       "    </tr>\n",
       "    <tr>\n",
       "      <th>26250</th>\n",
       "      <td>0.0</td>\n",
       "      <td>wir sehen in afrika zuallererst einen chanc...</td>\n",
       "    </tr>\n",
       "    <tr>\n",
       "      <th>26251</th>\n",
       "      <td>0.0</td>\n",
       "      <td>schon heute entstehen in afrika wichtige in...</td>\n",
       "    </tr>\n",
       "    <tr>\n",
       "      <th>26252</th>\n",
       "      <td>0.0</td>\n",
       "      <td>liberale entwicklungspolitik setzt auf dies...</td>\n",
       "    </tr>\n",
       "    <tr>\n",
       "      <th>26253</th>\n",
       "      <td>0.0</td>\n",
       "      <td>wir wollen gleichzeitig das viel zu negativ...</td>\n",
       "    </tr>\n",
       "    <tr>\n",
       "      <th>26256</th>\n",
       "      <td>0.0</td>\n",
       "      <td>unsere politik der freiheitsförderung setzt...</td>\n",
       "    </tr>\n",
       "    <tr>\n",
       "      <th>26257</th>\n",
       "      <td>0.0</td>\n",
       "      <td>wir werden uns auch in zukunft besonders fü...</td>\n",
       "    </tr>\n",
       "    <tr>\n",
       "      <th>26258</th>\n",
       "      <td>0.0</td>\n",
       "      <td>ethnische und gesellschaftliche minderheite...</td>\n",
       "    </tr>\n",
       "  </tbody>\n",
       "</table>\n",
       "<p>19464 rows × 2 columns</p>\n",
       "</div>"
      ],
      "text/plain": [
       "       cmp_code                                            content\n",
       "3           1.0  wir machen uns für die freiheit des einzelneni...\n",
       "6           0.0  in der liberalen bürgergesellschaft entscheide...\n",
       "8           0.0              denn durch sie wird politik gestaltet\n",
       "9           1.0  sie schöpft ihre kraft aus der eigeninitiative...\n",
       "11          1.0  wir liberale vertrauen auf die leistungsbereit...\n",
       "12          1.0  und auf einen staat der seine stärke aus der b...\n",
       "13          1.0  wir wenden uns an alle mündigen und verantwort...\n",
       "14          1.0  sie erkennen selbst was getan werden muss und ...\n",
       "15          1.0  die fdp ist die partei für alle die ihr leben ...\n",
       "16          0.0  wir wollen die maßstäbe politischen handelns n...\n",
       "17          1.0                       erwirtschaften vor verteilen\n",
       "18          1.0                                   privat vor staat\n",
       "19          1.0         eigenverantwortung statt staatsgläubigkeit\n",
       "20          0.0             chancengleichheit statt gleichmacherei\n",
       "21          0.0  wer mehr freiheit und chancengerechtigkeit in ...\n",
       "22          1.0  wir setzen uns für mehr freiheit und verantwor...\n",
       "23          0.0       freiheit ist mehr als ein abstrakter begriff\n",
       "24          0.0  sie ist die grundlage für die freie entwicklun...\n",
       "25          0.0       maßstab aller politik muss die freiheit sein\n",
       "26          0.0         denn nur sie erweitert handlungsspielräume\n",
       "27          1.0  unsere realistische betrachtung der gegenwart ...\n",
       "28          1.0  wir wollen die chancen der zukunft nutzen inde...\n",
       "29          0.0  dazu gehört auch die freiheiten zu verteidigen...\n",
       "30          0.0  wir sind nicht dazu bereit bürgerrechte für ei...\n",
       "31          0.0  wir liberale stehen für eine politik die vom r...\n",
       "33          0.0  für deutschlands zukunftsfähigkeit ist es zent...\n",
       "34          1.0  verantwortungsvolle bürgerinnen und bürger wis...\n",
       "35          1.0  aber sie müssen darauf vertrauen können dass e...\n",
       "39          1.0  für sie sind leistungsbereitschaft fleiß und a...\n",
       "40          1.0  ihr denken in generationen und sozialen zusamm...\n",
       "...         ...                                                ...\n",
       "26209       0.0  o deutschland fördert aber wir fordern auch  m...\n",
       "26210       1.0                             o mehr marktwirtschaft\n",
       "26213       1.0     liberale entwicklungspolitik setzt auf eine...\n",
       "26214       1.0     der staat allein wird die entwicklungsherau...\n",
       "26215       1.0     das gilt auch für die entwicklungsfinanzierung\n",
       "26216       1.0      die deutsche entwicklungspolitik muss desh...\n",
       "26218       1.0      gemeinsam mit dem privatsektor wollen wir ...\n",
       "26220       0.0     das engagement der deutschen wirtschaft ist...\n",
       "26221       0.0      diese zusammenarbeit wollen wir deshalb we...\n",
       "26224       0.0      wir bekennen uns zu den eingegangenen inte...\n",
       "26229       0.0      deshalb haben wir die mittel für nichtregi...\n",
       "26231       0.0     mit diesen reformen möchten wir in den näch...\n",
       "26233       0.0     liberale entwicklungspolitik reagiert konse...\n",
       "26234       0.0     das heißt mit aufstrebenden schwellenländer...\n",
       "26235       0.0     mit china sind wir diesen schritt bereits 2...\n",
       "26237       0.0     mit den millenniumentwicklungszielen ist es...\n",
       "26238       0.0     allerdings weist dieses zielsystem defizite...\n",
       "26239       0.0     die weltagenda nach 2015 muss das nebeneina...\n",
       "26240       0.0     es sollen gemeinsame aber differenzierte ve...\n",
       "26244       0.0     die eu soll darüber hinaus in ihrer rolle d...\n",
       "26245       1.0     eine vergemeinschaftung der entwicklungspol...\n",
       "26246       0.0      der europäische entwicklungsfonds muss zus...\n",
       "26249       0.0     zu oft wird afrika ausschließlich auf katas...\n",
       "26250       0.0     wir sehen in afrika zuallererst einen chanc...\n",
       "26251       0.0     schon heute entstehen in afrika wichtige in...\n",
       "26252       0.0     liberale entwicklungspolitik setzt auf dies...\n",
       "26253       0.0     wir wollen gleichzeitig das viel zu negativ...\n",
       "26256       0.0     unsere politik der freiheitsförderung setzt...\n",
       "26257       0.0     wir werden uns auch in zukunft besonders fü...\n",
       "26258       0.0     ethnische und gesellschaftliche minderheite...\n",
       "\n",
       "[19464 rows x 2 columns]"
      ]
     },
     "execution_count": 12,
     "metadata": {},
     "output_type": "execute_result"
    }
   ],
   "source": [
    "df"
   ]
  },
  {
   "cell_type": "code",
   "execution_count": null,
   "metadata": {},
   "outputs": [],
   "source": [
    "#4 Remove stopwords"
   ]
  },
  {
   "cell_type": "code",
   "execution_count": null,
   "metadata": {},
   "outputs": [],
   "source": [
    "fileName = '/Users/andersfleck/Desktop/data-science/political-analysis/model/training_data/stopwords.txt'\n",
    "stopword_file = open(fileName, 'r')\n",
    "stopword_data = [line.split(',') for line in stopword_file.readlines()]\n",
    "stopwords = []"
   ]
  },
  {
   "cell_type": "code",
   "execution_count": null,
   "metadata": {},
   "outputs": [],
   "source": [
    "for word_list in stopword_data:\n",
    "    for word in word_list:\n",
    "        word.strip()\n",
    "        stopwords.append(word.strip())"
   ]
  },
  {
   "cell_type": "code",
   "execution_count": null,
   "metadata": {},
   "outputs": [],
   "source": [
    "df.content = df['content'].replace(stopwords,'')"
   ]
  },
  {
   "cell_type": "code",
   "execution_count": null,
   "metadata": {},
   "outputs": [],
   "source": [
    "#5 Split dataset into training and test set"
   ]
  },
  {
   "cell_type": "code",
   "execution_count": 19,
   "metadata": {},
   "outputs": [],
   "source": [
    "X = df[['content']]\n",
    "ylabels = df['cmp_code']\n",
    "X_train, X_test, y_train, y_test = train_test_split(X, ylabels, test_size=0.25)"
   ]
  },
  {
   "cell_type": "code",
   "execution_count": 20,
   "metadata": {},
   "outputs": [
    {
     "data": {
      "text/plain": [
       "(14598, 1)"
      ]
     },
     "execution_count": 20,
     "metadata": {},
     "output_type": "execute_result"
    }
   ],
   "source": [
    "X_train.shape"
   ]
  },
  {
   "cell_type": "code",
   "execution_count": 21,
   "metadata": {},
   "outputs": [],
   "source": [
    "#6 Vectorize cleaned text with sklearn (BoW)"
   ]
  },
  {
   "cell_type": "code",
   "execution_count": 23,
   "metadata": {},
   "outputs": [],
   "source": [
    "c = CountVectorizer()\n",
    "vec_text = c.fit_transform(X_train['content'].tolist())\n",
    "#df_vec = pd.DataFrame(vec_text.todense(), columns = list(sorted(c.vocabulary_)))"
   ]
  },
  {
   "cell_type": "code",
   "execution_count": 28,
   "metadata": {},
   "outputs": [
    {
     "data": {
      "text/plain": [
       "(14598, 22687)"
      ]
     },
     "execution_count": 28,
     "metadata": {},
     "output_type": "execute_result"
    }
   ],
   "source": [
    "vec_text.todense().shape"
   ]
  },
  {
   "cell_type": "code",
   "execution_count": null,
   "metadata": {},
   "outputs": [],
   "source": [
    "#7 Create pipelines\n",
    "\n",
    "classifier = LogisticRegression(C=0.5)\n",
    "model = Pipeline([('vectorizer', c),\n",
    "                 ('classifier', classifier)\n",
    "])"
   ]
  },
  {
   "cell_type": "code",
   "execution_count": 29,
   "metadata": {},
   "outputs": [
    {
     "name": "stderr",
     "output_type": "stream",
     "text": [
      "/usr/local/lib/python3.7/site-packages/sklearn/linear_model/logistic.py:433: FutureWarning: Default solver will be changed to 'lbfgs' in 0.22. Specify a solver to silence this warning.\n",
      "  FutureWarning)\n"
     ]
    },
    {
     "data": {
      "text/plain": [
       "LogisticRegression(C=0.5, class_weight=None, dual=False, fit_intercept=True,\n",
       "          intercept_scaling=1, max_iter=100, multi_class='warn',\n",
       "          n_jobs=None, penalty='l2', random_state=None, solver='warn',\n",
       "          tol=0.0001, verbose=0, warm_start=False)"
      ]
     },
     "execution_count": 29,
     "metadata": {},
     "output_type": "execute_result"
    }
   ],
   "source": [
    "classifier = LogisticRegression(C=0.5)\n",
    "\n",
    "classifier.fit(vec_text,y_train)"
   ]
  },
  {
   "cell_type": "code",
   "execution_count": 31,
   "metadata": {},
   "outputs": [
    {
     "data": {
      "text/plain": [
       "0.9210165776133717"
      ]
     },
     "execution_count": 31,
     "metadata": {},
     "output_type": "execute_result"
    }
   ],
   "source": [
    "classifier.score(vec_text,y_train)"
   ]
  },
  {
   "cell_type": "code",
   "execution_count": 32,
   "metadata": {},
   "outputs": [],
   "source": [
    "x_test_vec = c.transform(X_test['content'].tolist())"
   ]
  },
  {
   "cell_type": "code",
   "execution_count": 33,
   "metadata": {},
   "outputs": [
    {
     "data": {
      "text/plain": [
       "0.8684751335799424"
      ]
     },
     "execution_count": 33,
     "metadata": {},
     "output_type": "execute_result"
    }
   ],
   "source": [
    "classifier.score(x_test_vec, y_test)"
   ]
  },
  {
   "cell_type": "code",
   "execution_count": null,
   "metadata": {},
   "outputs": [],
   "source": [
    "#Balance the dataset input (left, right)\n",
    "#Use LSTM to classify\n",
    "    #Input CountVectorizer()\n",
    "    #Neural network with embedding layer followed by LSTM layer"
   ]
  },
  {
   "cell_type": "code",
   "execution_count": 40,
   "metadata": {},
   "outputs": [
    {
     "data": {
      "text/plain": [
       "array([[0.87393951, 0.12606049]])"
      ]
     },
     "execution_count": 40,
     "metadata": {},
     "output_type": "execute_result"
    }
   ],
   "source": [
    "new_text = c.transform(['lackadaisical'])\n",
    "\n",
    "classifier.predict_proba(new_text)"
   ]
  },
  {
   "cell_type": "markdown",
   "metadata": {},
   "source": [
    "### TEST MODEL WITH KERAS"
   ]
  },
  {
   "cell_type": "code",
   "execution_count": null,
   "metadata": {},
   "outputs": [],
   "source": [
    "model = Sequential()\n",
    "model.add(Embedding(INPUTSIZE, 16, input_length=20))\n",
    "model.add(Flatten())\n",
    "model.add(Dense(1, activation='sigmoid'))\n",
    "model.compile(optimizer='adam', loss='binary_crossentropy')\n",
    "model.fit(X_train,y_train, epochs=50,verbose=0)"
   ]
  },
  {
   "cell_type": "code",
   "execution_count": null,
   "metadata": {},
   "outputs": [],
   "source": [
    "model.summary()"
   ]
  },
  {
   "cell_type": "code",
   "execution_count": null,
   "metadata": {},
   "outputs": [],
   "source": []
  }
 ],
 "metadata": {
  "kernelspec": {
   "display_name": "Python 3",
   "language": "python",
   "name": "python3"
  },
  "language_info": {
   "codemirror_mode": {
    "name": "ipython",
    "version": 3
   },
   "file_extension": ".py",
   "mimetype": "text/x-python",
   "name": "python",
   "nbconvert_exporter": "python",
   "pygments_lexer": "ipython3",
   "version": "3.7.3"
  }
 },
 "nbformat": 4,
 "nbformat_minor": 2
}
